{
 "cells": [
  {
   "cell_type": "markdown",
   "metadata": {},
   "source": [
    "## HW03 Code\n",
    "\n",
    "## Student: Dipta Roy\n",
    "\n",
    "\n",
    "You will complete the following notebook, as described in the PDF for Homework 03 (included in the download with the starter code).  You will submit:\n",
    "1. This notebook file, along with your COLLABORATORS.txt file, to the Gradescope link for code.\n",
    "2. A PDF of this notebook and all of its output, once it is completed, to the Gradescope link for the PDF.\n",
    "\n",
    "\n",
    "Please report any questions to the [class Piazza page](piazza.com/tufts/summer2021/cs135).\n",
    "\n",
    "### Import required libraries."
   ]
  },
  {
   "cell_type": "code",
   "execution_count": 56,
   "metadata": {},
   "outputs": [],
   "source": [
    "import os\n",
    "import numpy as np\n",
    "import pandas as pd\n",
    "\n",
    "import warnings\n",
    "\n",
    "import sklearn.linear_model\n",
    "import sklearn.metrics\n",
    "import sklearn.calibration\n",
    "\n",
    "from matplotlib import pyplot as plt\n",
    "import seaborn as sns\n",
    "%matplotlib inline\n",
    "plt.style.use('seaborn') # pretty matplotlib plots"
   ]
  },
  {
   "cell_type": "markdown",
   "metadata": {},
   "source": [
    "### Function for later use\n",
    "This function will compute and return a confusion matrix on data, given probabilistic predictions, and a threshold to use when converting probabilities to \"firm\" predictions.\n",
    "\n",
    "***Don't change this function.***"
   ]
  },
  {
   "cell_type": "code",
   "execution_count": 2,
   "metadata": {},
   "outputs": [],
   "source": [
    "def calc_confusion_matrix_for_threshold(ytrue_N, yproba1_N, thresh=0.5):\n",
    "    ''' Compute the confusion matrix for a given probabilistic classifier and threshold\n",
    "    \n",
    "    Args\n",
    "    ----\n",
    "    ytrue_N : 1D array of floats\n",
    "        Each entry represents the binary value (0 or 1) of 'true' label of one example\n",
    "        One entry per example in current dataset\n",
    "    yproba1_N : 1D array of floats\n",
    "        Each entry represents a probability (between 0 and 1) that correct label is positive (1)\n",
    "        One entry per example in current dataset\n",
    "        Needs to be same size as ytrue_N\n",
    "    thresh : float\n",
    "        Scalar threshold for converting probabilities into hard decisions\n",
    "        Calls an example \"positive\" if yproba1 >= thresh\n",
    "        Default value reflects a majority-classification approach (class is the one that gets\n",
    "        highest probability)\n",
    "\n",
    "    Returns\n",
    "    -------\n",
    "    cm_df : Pandas DataFrame\n",
    "        Can be printed like print(cm_df) to easily display results\n",
    "    '''\n",
    "    cm = sklearn.metrics.confusion_matrix(ytrue_N, yproba1_N >= thresh)\n",
    "    cm_df = pd.DataFrame(data=cm, columns=[0, 1], index=[0, 1])\n",
    "    cm_df.columns.name = 'Predicted'\n",
    "    cm_df.index.name = 'True'\n",
    "    return cm_df"
   ]
  },
  {
   "cell_type": "markdown",
   "metadata": {},
   "source": [
    "## Cancer-Risk Screening\n",
    "\n",
    "### 1: Compute true/false positives/negatives.\n",
    "\n",
    "Complete the following code."
   ]
  },
  {
   "cell_type": "code",
   "execution_count": 13,
   "metadata": {},
   "outputs": [],
   "source": [
    "def calc_TP_TN_FP_FN(ytrue_N, yhat_N):\n",
    "    '''\n",
    "    \n",
    "    Args\n",
    "    ----\n",
    "    ytrue_N : 1D array of floats\n",
    "        Each entry represents the binary value (0 or 1) of 'true' label of one example\n",
    "        One entry per example in current dataset\n",
    "    yhat_N : 1D array of floats\n",
    "        Each entry represents a predicted binary value (either 0 or 1).\n",
    "        One entry per example in current dataset.\n",
    "        Needs to be same size as ytrue_N.\n",
    "\n",
    "    Returns\n",
    "    -------\n",
    "    TP : int\n",
    "        Number of true positives\n",
    "    TN : int\n",
    "        Number of true negatives\n",
    "    FP : int\n",
    "        Number of false positives\n",
    "    FN : int\n",
    "        Number of false negatives\n",
    "    '''\n",
    "    \n",
    "    TP = 0\n",
    "    TN = 0.0\n",
    "    FP = 0.0\n",
    "    FN = 0.0\n",
    "    \n",
    "    for x in range(len(ytrue_N)):\n",
    "        if (ytrue_N[x]==1 and yhat_N[x]==1):\n",
    "            TP +=1 \n",
    "        elif (ytrue_N[x]==0 and yhat_N[x]==0):\n",
    "            TN +=1\n",
    "        elif (ytrue_N[x]==0 and yhat_N[x]==1):\n",
    "            FP +=1\n",
    "        elif (ytrue_N[x]==1 and yhat_N[x]==0):\n",
    "            FN+=1\n",
    "\n",
    "    \n",
    "    return TP, TN, FP, FN"
   ]
  },
  {
   "cell_type": "markdown",
   "metadata": {},
   "source": [
    "#### Testing code\n",
    "The following four calls to the function above test your results.  ***Don't modify this.***"
   ]
  },
  {
   "cell_type": "code",
   "execution_count": 14,
   "metadata": {},
   "outputs": [
    {
     "data": {
      "text/plain": [
       "(0, 0.0, 10.0, 0.0)"
      ]
     },
     "execution_count": 14,
     "metadata": {},
     "output_type": "execute_result"
    }
   ],
   "source": [
    "all0 = np.zeros(10)\n",
    "all1 = np.ones(10)\n",
    "calc_TP_TN_FP_FN(all0, all1)"
   ]
  },
  {
   "cell_type": "code",
   "execution_count": 15,
   "metadata": {},
   "outputs": [
    {
     "data": {
      "text/plain": [
       "(0, 0.0, 0.0, 10.0)"
      ]
     },
     "execution_count": 15,
     "metadata": {},
     "output_type": "execute_result"
    }
   ],
   "source": [
    "calc_TP_TN_FP_FN(all1, all0)"
   ]
  },
  {
   "cell_type": "code",
   "execution_count": 16,
   "metadata": {},
   "outputs": [
    {
     "data": {
      "text/plain": [
       "(10, 0.0, 0.0, 0.0)"
      ]
     },
     "execution_count": 16,
     "metadata": {},
     "output_type": "execute_result"
    }
   ],
   "source": [
    "calc_TP_TN_FP_FN(all1, all1)"
   ]
  },
  {
   "cell_type": "code",
   "execution_count": 17,
   "metadata": {},
   "outputs": [
    {
     "data": {
      "text/plain": [
       "(0, 10.0, 0.0, 0.0)"
      ]
     },
     "execution_count": 17,
     "metadata": {},
     "output_type": "execute_result"
    }
   ],
   "source": [
    "calc_TP_TN_FP_FN(all0, all0)"
   ]
  },
  {
   "cell_type": "markdown",
   "metadata": {},
   "source": [
    "### Load the dataset.\n",
    "\n",
    "The following should ***not*** be modified.  After it runs, the various arrays it creates will contain the 2- or 3-feature input datasets."
   ]
  },
  {
   "cell_type": "code",
   "execution_count": 10,
   "metadata": {},
   "outputs": [],
   "source": [
    "# Load the x-data and y-class arrays\n",
    "x_train = np.loadtxt('./data_cancer/x_train.csv', delimiter=',', skiprows=1)\n",
    "x_test = np.loadtxt('./data_cancer/x_test.csv', delimiter=',', skiprows=1)\n",
    "\n",
    "y_train = np.loadtxt('./data_cancer/y_train.csv', delimiter=',', skiprows=1)\n",
    "y_test = np.loadtxt('./data_cancer/y_test.csv', delimiter=',', skiprows=1)"
   ]
  },
  {
   "cell_type": "markdown",
   "metadata": {},
   "source": [
    "### 2: Compute the fraction of patients with cancer.\n",
    "\n",
    "Complete the following code.  Your solution needs to ***compute*** these values from the training and testing sets (i.e., don't simply hand-count and print the values)."
   ]
  },
  {
   "cell_type": "code",
   "execution_count": 22,
   "metadata": {},
   "outputs": [
    {
     "data": {
      "text/plain": [
       "0.14035087719298245"
      ]
     },
     "execution_count": 22,
     "metadata": {},
     "output_type": "execute_result"
    }
   ],
   "source": [
    "sum(y_train)/len(y_train)"
   ]
  },
  {
   "cell_type": "code",
   "execution_count": 25,
   "metadata": {},
   "outputs": [
    {
     "name": "stdout",
     "output_type": "stream",
     "text": [
      "Fraction of data that has_cancer on TRAIN: 0.140\n",
      "fraction of data that has_cancer on TEST : 0.139\n"
     ]
    }
   ],
   "source": [
    "print(\"Fraction of data that has_cancer on TRAIN: %.3f\" % (sum(y_train)/len(y_train))) #TODO: modify these prints\n",
    "print(\"fraction of data that has_cancer on TEST : %.3f\" % (sum(y_test)/len(y_test)))"
   ]
  },
  {
   "cell_type": "markdown",
   "metadata": {},
   "source": [
    "### 3: The predict-0-always baseline\n",
    "\n",
    "#### (a) Compute the accuracy of the always-0 classifier.\n",
    "\n",
    "Complete the code to compute and print the accuracy of the always-0 classifier on validation and test outputs."
   ]
  },
  {
   "cell_type": "code",
   "execution_count": 143,
   "metadata": {},
   "outputs": [
    {
     "name": "stdout",
     "output_type": "stream",
     "text": [
      "acc on TRAIN: 0.860\n",
      "acc on TEST : 0.861\n"
     ]
    }
   ],
   "source": [
    "def accuracy(TP, TN, FP, FN):\n",
    "    acc = (TP + TN)/ (TP + TN + FP + FN)\n",
    "    return acc\n",
    "\n",
    "##Creating a helper function to make life easier\n",
    "def find_accuracy(ytrue_N, yhat_N):\n",
    "    tps = calc_TP_TN_FP_FN(ytrue_N, yhat_N)\n",
    "    \n",
    "    acc = accuracy(tps[0], tps[1], tps[2], tps[3])\n",
    "    return acc\n",
    "\n",
    "\n",
    "print(\"acc on TRAIN: %.3f\" % find_accuracy(y_train, np.zeros(len(y_train)))) #TODO: modify these values\n",
    "print(\"acc on TEST : %.3f\" % find_accuracy(np.zeros(len(y_test)), y_test))"
   ]
  },
  {
   "cell_type": "markdown",
   "metadata": {},
   "source": [
    "#### (b) Print a confusion matrix for the always-0 classifier.\n",
    "\n",
    "Add code below to generate a confusion matrix for the always-0 classifier on the test set."
   ]
  },
  {
   "cell_type": "code",
   "execution_count": 50,
   "metadata": {},
   "outputs": [
    {
     "name": "stdout",
     "output_type": "stream",
     "text": [
      "Predicted    0  1\n",
      "True             \n",
      "0          155  0\n",
      "1           25  0\n"
     ]
    }
   ],
   "source": [
    "# TODO: call print(calc_confusion_matrix_for_threshold(...))\n",
    "print(calc_confusion_matrix_for_threshold(y_test, np.zeros(len(y_test))))"
   ]
  },
  {
   "cell_type": "markdown",
   "metadata": {},
   "source": [
    "#### (c) Reflect on the accuracy of the always-0 classifier.\n",
    "\n",
    "**Answer**: It makes sense that we have a high accuracy on the test and train because we have a big imbalance in our data. Only 13.9% of our testing dataset has cancer, meaning that 86.1% of our testing data doesn't. This is reflected in the accuracy of the testing set by using the always-0 classifier. We wouldn't use it for this task because our goal is to actually detect the cancer, so we want to minimize our false negative and increase our true positive. We wouldn't want to tell someone that they don't have cancer when they do becaues then they wouldn't get the help they need."
   ]
  },
  {
   "cell_type": "markdown",
   "metadata": {},
   "source": [
    "#### (d) Analyze the various costs of using the always-0 classifier.\n",
    "\n",
    "\n",
    "**Answer**: \n",
    "False Positive: This mistake wouldn't be TOOO bad because though the patient doesn't actually have cancer they might seek out treatment and waste money that they necessarily didn't need. \n",
    "\n",
    "False Negative: This mistake would be dire as now the patient might not seek out treatment and would lose time in their fight for cancer. It can also increase cost as later stages of cancer might cost more to remove. They also will not be able to let their close friends and family know. \n",
    "\n",
    "I would recommend **NOT** using this classifier for this type of problem as the cost of this mistake would not be worth it and would cause more problems than solve."
   ]
  },
  {
   "cell_type": "markdown",
   "metadata": {},
   "source": [
    "### 4: Basic Perceptron Models\n",
    "\n",
    "#### (a) Create a basic `Perceptron` classifier\n",
    "\n",
    "Fit a perceptron to the training data.  Print out accuracy on this data, as well as on testing data.  Print out a confusion matrix on the testing data."
   ]
  },
  {
   "cell_type": "code",
   "execution_count": 59,
   "metadata": {},
   "outputs": [],
   "source": [
    "from sklearn.linear_model import Perceptron"
   ]
  },
  {
   "cell_type": "code",
   "execution_count": 84,
   "metadata": {},
   "outputs": [
    {
     "name": "stdout",
     "output_type": "stream",
     "text": [
      "acc on TRAIN: 0.860\n",
      "acc on TEST : 0.861\n",
      "Predicted    0  1\n",
      "True             \n",
      "0          155  0\n",
      "1           25  0\n"
     ]
    }
   ],
   "source": [
    "pct = Perceptron()\n",
    "pct.fit(x_train, y_train)\n",
    "y_test_predict = pct.predict(x_test)\n",
    "y_train_predict = pct.predict(x_train)\n",
    "\n",
    "ytrain_acc = pct.score(x_train, y_train)\n",
    "ytest_acc = pct.score(x_test, y_test)\n",
    "\n",
    "print(\"acc on TRAIN: %.3f\" % ytrain_acc) #TODO: modify these values\n",
    "print(\"acc on TEST : %.3f\" % ytest_acc)\n",
    "\n",
    "print(calc_confusion_matrix_for_threshold(y_test, y_test_predict))\n",
    "# TODO: call print(calc_confusion_matrix_for_threshold(...))"
   ]
  },
  {
   "cell_type": "markdown",
   "metadata": {},
   "source": [
    "Our accuracy didn't change so we need to use a scalar"
   ]
  },
  {
   "cell_type": "code",
   "execution_count": 73,
   "metadata": {},
   "outputs": [],
   "source": [
    "from sklearn.preprocessing import MinMaxScaler"
   ]
  },
  {
   "cell_type": "code",
   "execution_count": 87,
   "metadata": {},
   "outputs": [
    {
     "name": "stdout",
     "output_type": "stream",
     "text": [
      "acc on TRAIN: 0.698\n",
      "acc on TEST : 0.706\n",
      "Predicted   0   1\n",
      "True             \n",
      "0          64  91\n",
      "1           0  25\n"
     ]
    }
   ],
   "source": [
    "scaler = MinMaxScaler()\n",
    "scaler.fit(x_train)\n",
    "xtrain_scale = scaler.transform(x_train)\n",
    "xtest_scale = scaler.transform(x_test)\n",
    "\n",
    "pct2 = Perceptron()\n",
    "pct2.fit(xtrain_scale, y_train)\n",
    "\n",
    "ytest_scale_pred = pct2.predict(xtest_scale)\n",
    "ytrain_scale_pred = pct2.predict(xtrain_scale)\n",
    "\n",
    "ytest_scale_acc = pct.score(xtest_scale, y_test)\n",
    "ytrain_scale_acc = pct.score(xtrain_scale, y_train)\n",
    "\n",
    "print(\"acc on TRAIN: %.3f\" % ytrain_scale_acc) #TODO: modify these values\n",
    "print(\"acc on TEST : %.3f\" % ytest_scale_acc)\n",
    "\n",
    "print(calc_confusion_matrix_for_threshold(y_test, ytest_scale_pred))\n"
   ]
  },
  {
   "cell_type": "markdown",
   "metadata": {},
   "source": [
    "#### (b) Compare the `Perceptron` to the always-0 classifier.\n",
    "\n",
    "**Answer**: Though our accuracy is lower we have a better model than the always-0 classifier and that's because we were able to predict everyone that had cancer.\n"
   ]
  },
  {
   "cell_type": "markdown",
   "metadata": {},
   "source": [
    "#### (c) Generate a series of regularized perceptron models\n",
    "Each model will use a different `alpha` value, multiplying that by the L2 penalty.  You will record and plot the accuracy of each model on both training and test data."
   ]
  },
  {
   "cell_type": "code",
   "execution_count": 88,
   "metadata": {},
   "outputs": [],
   "source": [
    "train_accuracy_list = list()\n",
    "test_accuracy_list = list()\n",
    "\n",
    "alpha_set = np.logspace(-5, 5, base=10, num=100)\n",
    "\n",
    "for i in alpha_set:\n",
    "    tron = Perceptron(penalty='l2', alpha=i)\n",
    "    tron.fit(xtrain_scale, y_train)\n",
    "    \n",
    "    ytest_sca = tron.predict(xtest_scale)\n",
    "    ytrain_sca = tron.predict(xtrain_scale)\n",
    "    \n",
    "    train_accuracy_list.append(tron.score(xtrain_scale, y_train))\n",
    "    test_accuracy_list.append(tron.score(xtest_scale, y_test))\n",
    "    \n",
    "    \n",
    "# TODO: create, fit models here and record accuracy of each"
   ]
  },
  {
   "cell_type": "markdown",
   "metadata": {},
   "source": [
    "##### Plot accuracy on train/test data across the different alpha values."
   ]
  },
  {
   "cell_type": "code",
   "execution_count": 117,
   "metadata": {},
   "outputs": [
    {
     "data": {
      "text/plain": [
       "Text(0.5, 1.0, 'Accuracy Values for Test and Train data based on Alpha')"
      ]
     },
     "execution_count": 117,
     "metadata": {},
     "output_type": "execute_result"
    },
    {
     "data": {
      "image/png": "[encoded data removed]",
      "text/plain": [
       "<Figure size 576x396 with 1 Axes>"
      ]
     },
     "metadata": {},
     "output_type": "display_data"
    }
   ],
   "source": [
    "# TODO make plot\n",
    "plt.plot(train_accuracy_list, 'bo', label='Train')\n",
    "plt.plot(test_accuracy_list, 'r', label='Test')\n",
    "plt.xlabel('log_10(alpha)');\n",
    "plt.ylabel('Accuracy');\n",
    "plt.legend();\n",
    "plt.title('Accuracy Values for Test and Train data based on Alpha')\n",
    "\n",
    "# TODO add legend, titles, etc.\n",
    "# plt.legend(...);"
   ]
  },
  {
   "cell_type": "markdown",
   "metadata": {},
   "source": [
    "#### (d) Discuss what the plot is showing you.\n",
    "\n",
    "**Answer**: Accuracy stays fairly consistent and close to the 86% as we've seen before based on alpha values. There is also  closeness in accuracy in training/testing sets. Some drops in accuracy is observed with certain alpha values but it isn't a bad thing in this case as we've seen before we're not too concerned about the accuracy and more concerned about getting the cancer patients correct.\n",
    "\n",
    "The Train/test data stays very close together since it is a binary classification"
   ]
  },
  {
   "cell_type": "markdown",
   "metadata": {},
   "source": [
    "### 5: Decision functions and probabilistic predictions\n",
    "\n",
    "#### (a) Create two new sets of predictions\n",
    "\n",
    "Fit `Perceptron` and `CalibratedClassifierCV` models to the data.  Use their predictions to generate ROC curves. "
   ]
  },
  {
   "cell_type": "code",
   "execution_count": 15,
   "metadata": {},
   "outputs": [],
   "source": [
    "# TODO: fit a Perceptron and generate its decision_function() over the test data.\n",
    "\n",
    "# TODO: Build a CalibratedClassifierCV, using a Perceptron as its base_estimator, \n",
    "#       and generate its probabilistic predictions over the test data."
   ]
  },
  {
   "cell_type": "code",
   "execution_count": 119,
   "metadata": {},
   "outputs": [],
   "source": [
    "dec = Perceptron()\n",
    "dec.fit(xtrain_scale, y_train)\n",
    "dec_pred = dec.decision_function(xtest_scale)"
   ]
  },
  {
   "cell_type": "code",
   "execution_count": 122,
   "metadata": {},
   "outputs": [],
   "source": [
    "from sklearn.calibration import CalibratedClassifierCV"
   ]
  },
  {
   "cell_type": "code",
   "execution_count": 123,
   "metadata": {},
   "outputs": [
    {
     "data": {
      "text/plain": [
       "CalibratedClassifierCV(base_estimator=Perceptron(), method='isotonic')"
      ]
     },
     "execution_count": 123,
     "metadata": {},
     "output_type": "execute_result"
    }
   ],
   "source": [
    "perc = Perceptron()\n",
    "cv_pct = CalibratedClassifierCV(base_estimator= perc, method = 'isotonic')\n",
    "cv_pct.fit(xtrain_scale, y_train)"
   ]
  },
  {
   "cell_type": "code",
   "execution_count": 125,
   "metadata": {},
   "outputs": [],
   "source": [
    "cv_pred = cv_pct.predict_proba(xtest_scale)"
   ]
  },
  {
   "cell_type": "code",
   "execution_count": 127,
   "metadata": {},
   "outputs": [],
   "source": [
    "from sklearn.metrics import roc_curve\n",
    "from sklearn.metrics import roc_auc_score"
   ]
  },
  {
   "cell_type": "code",
   "execution_count": 132,
   "metadata": {},
   "outputs": [],
   "source": [
    "fpr1,tpr1,thresh1=roc_curve(y_test,cv_pred[:,1]) #CCCV\n",
    "auc1=roc_auc_score(y_test,cv_pred[:,1])\n",
    "\n",
    "fpr2, tpr2, thresh2 = roc_curve(y_test, ytest_scale_pred) #perceptron with scale\n",
    "auc2=roc_auc_score(y_test,ytest_scale_pred)\n",
    "\n",
    "fpr3, tpr3, thresh3 = roc_curve(y_test, y_test_predict) #perceptron without scale\n",
    "auc3=roc_auc_score(y_test,y_test_predict)\n",
    "\n",
    "fpr4, tpr4, thresh4 = roc_curve(y_test, dec_pred) #decision function perceptron\n",
    "auc4=roc_auc_score(y_test,dec_pred)\n"
   ]
  },
  {
   "cell_type": "code",
   "execution_count": 140,
   "metadata": {},
   "outputs": [
    {
     "data": {
      "image/png": "[encoded data removed]",
      "text/plain": [
       "<Figure size 1152x576 with 1 Axes>"
      ]
     },
     "metadata": {},
     "output_type": "display_data"
    }
   ],
   "source": [
    "plt.figure(figsize = (16,8))\n",
    "plt.plot(fpr1,tpr1, label='CCCV Model(area = %0.2f)' % auc1,color='red')\n",
    "plt.plot(fpr2, tpr2, label='Perceptron w/ Scaling(area = %0.2f)' % auc2,color='green')\n",
    "plt.plot(fpr3, tpr3, label='Perceptron w/O Scaling(area = %0.2f)' % auc3,color='magenta')\n",
    "plt.plot(fpr4, tpr4, label='Decision Function Perceptron(area = %0.2f)' % auc4,color='blue')\n",
    "\n",
    "\n",
    "plt.plot([0, 1], [0, 1], 'k--',color='grey')\n",
    "plt.xlim([0.0, 1.0])\n",
    "plt.ylim([0.0, 1.0])\n",
    "plt.xlabel('False Positive Rate (FPR = 1-TPR)', fontsize=13)\n",
    "plt.ylabel('True Positive Rate (TPR)', fontsize=13)\n",
    "plt.title('ROC Curve for Different Models', fontsize=20)\n",
    "plt.legend(loc=\"lower right\", fontsize=16)\n",
    "plt.show()"
   ]
  },
  {
   "cell_type": "code",
   "execution_count": 141,
   "metadata": {},
   "outputs": [
    {
     "name": "stdout",
     "output_type": "stream",
     "text": [
      "AUC on TEST for Perceptron: 0.884\n",
      "AUC on TEST for probabilistic model: 0.886\n"
     ]
    }
   ],
   "source": [
    "print(\"AUC on TEST for Perceptron: %.3f\" % auc4) #TODO: modify these values\n",
    "print(\"AUC on TEST for probabilistic model: %.3f\" % auc1)"
   ]
  },
  {
   "cell_type": "markdown",
   "metadata": {},
   "source": [
    "#### (b) Discuss the results above\n",
    "\n",
    "**Answer**: The Probabilistic Model got a slightly higher AUC on test than the decision function. We can see on the ROC curve that they are also very similar as they follow almost the same pattern. They differ slightly in the FPR to TPR at some points in the graph. I would coose the CCCV model as it does have a better TPR and since in this case we want to be right about the true positives it's better to go with this model."
   ]
  },
  {
   "cell_type": "markdown",
   "metadata": {},
   "source": [
    "#### (c) Compute model metrics for different probabilistic thresholds\n",
    "\n",
    "Complete the function that takes in a set of correct outputs, a matching set of probabilities generated by a classifier, and a threshold at which to set the positive decision probability, and returns a set of metrics if we use that threshold."
   ]
  },
  {
   "cell_type": "code",
   "execution_count": 153,
   "metadata": {},
   "outputs": [],
   "source": [
    "def calc_perf_metrics_for_threshold(ytrue_N, yproba1_N, thresh=0.5):\n",
    "    ''' Compute performance metrics for a given probabilistic classifier and threshold\n",
    "    Args\n",
    "    ----\n",
    "    ytrue_N : 1D array of floats\n",
    "        Each entry represents the binary value (0 or 1) of 'true' label of one example\n",
    "        One entry per example in current dataset\n",
    "    yproba1_N : 1D array of floats\n",
    "        Each entry represents a probability (between 0 and 1) that correct label is positive (1)\n",
    "        One entry per example in current dataset\n",
    "        Needs to be same size as ytrue_N\n",
    "    thresh : float\n",
    "        Scalar threshold for converting probabilities into hard decisions\n",
    "        Calls an example \"positive\" if yproba1 >= thresh\n",
    "        Default value reflects a majority-classification approach (class is the one that gets\n",
    "        highest probability)\n",
    "\n",
    "    Returns\n",
    "    -------\n",
    "    acc : accuracy of predictions\n",
    "    tpr : true positive rate of predictions\n",
    "    tnr : true negative rate of predictions\n",
    "    ppv : positive predictive value of predictions\n",
    "    npv : negative predictive value of predictions\n",
    "    '''\n",
    "    y_preds = []\n",
    "\n",
    "    for x in yproba1_N:\n",
    "        if x>=thresh:\n",
    "            y_preds.append(1)\n",
    "        else:\n",
    "            y_preds.append(0)\n",
    "            \n",
    "    TP, TN, FP, FN = calc_TP_TN_FP_FN(ytrue_N, y_preds)\n",
    "    \n",
    "    # TODO: fix this\n",
    "    acc = find_accuracy(ytrue_N, y_preds)\n",
    "    tpr = (TP)/(TP+FN)\n",
    "    tnr = (TN)/(TN+FP)\n",
    "    \n",
    "    ppv = 0\n",
    "    if (TP+FP ==0): \n",
    "        ppv= 0 \n",
    "    else: \n",
    "        ppv = (TP)/(TP+FP)\n",
    "        \n",
    "    npv = 0\n",
    "    if (TN + FN==0):\n",
    "        npv = 0\n",
    "    else:\n",
    "        npv = (TN)/(TN + FN)\n",
    "    \n",
    "    return acc, tpr, tnr, ppv, npv\n",
    "\n",
    "# You can use this function later to make printing results easier; don't change it.\n",
    "def print_perf_metrics_for_threshold(ytrue_N, yproba1_N, thresh=0.5):\n",
    "    ''' Pretty print perf. metrics for a given probabilistic classifier and threshold\n",
    "    '''\n",
    "    acc, tpr, tnr, ppv, npv = calc_perf_metrics_for_threshold(ytrue_N, yproba1_N, thresh)\n",
    "    \n",
    "    ## Pretty print the results\n",
    "    print(\"%.3f ACC\" % acc)\n",
    "    print(\"%.3f TPR\" % tpr)\n",
    "    print(\"%.3f TNR\" % tnr)\n",
    "    print(\"%.3f PPV\" % ppv)\n",
    "    print(\"%.3f NPV\" % npv)"
   ]
  },
  {
   "cell_type": "markdown",
   "metadata": {},
   "source": [
    "#### (d) Compare the probabilistic classifier across multiple decision thresholds\n",
    "\n",
    "Try a range of thresholds for classifying data into the positive class (1).  For each threshold, compute the true postive rate (TPR) and positive predictive value (PPV).  Record the best value of each metric, along with the threshold that achieves it, and the *other* metric at that threshold."
   ]
  },
  {
   "cell_type": "code",
   "execution_count": 155,
   "metadata": {},
   "outputs": [],
   "source": [
    "# TODO: test different thresholds to compute these values\n",
    "best_TPR = 0\n",
    "best_PPV_for_best_TPR = 0\n",
    "best_TPR_threshold = 0\n",
    "\n",
    "best_PPV = 0\n",
    "best_TPR_for_best_PPV = 0  \n",
    "best_PPV_threshold = 0\n",
    "\n",
    "thresholds = np.linspace(0, 1.001, 51)\n",
    "for i in thresholds:\n",
    "    acc, tpr, tnr, ppv, npv = calc_perf_metrics_for_threshold(y_test, cv_pred[:,1], i)\n",
    "    \n",
    "    if tpr > best_TPR:\n",
    "        best_TPR = tpr\n",
    "        best_PPV_for_best_TPR = ppv\n",
    "        best_TPR_threshold = i\n",
    "    \n",
    "    if ppv> best_PPV:\n",
    "        best_PPV = ppv\n",
    "        best_TPR_for_best_PPV = tpr  \n",
    "        best_PPV_threshold = i"
   ]
  },
  {
   "cell_type": "code",
   "execution_count": 156,
   "metadata": {},
   "outputs": [
    {
     "name": "stdout",
     "output_type": "stream",
     "text": [
      "TPR threshold: 0.0000 => TPR: 1.0000; PPV: 0.1389\n",
      "PPV threshold: 0.6206 => PPV: 1.0000; TPR: 0.2000\n"
     ]
    }
   ],
   "source": [
    "print(\"TPR threshold: %.4f => TPR: %.4f; PPV: %.4f\" % (best_TPR_threshold, best_TPR, best_PPV_for_best_TPR))\n",
    "print(\"PPV threshold: %.4f => PPV: %.4f; TPR: %.4f\" % (best_PPV_threshold, best_PPV, best_TPR_for_best_PPV))"
   ]
  },
  {
   "cell_type": "markdown",
   "metadata": {},
   "source": [
    "#### (e) Exploring diffrerent thresholds\n",
    "\n",
    "#### (i) Using default 0.5 threshold. \n",
    "\n",
    "Generate confusion matrix and metrics for probabilistic classifier, using threshold 0.5."
   ]
  },
  {
   "cell_type": "code",
   "execution_count": 159,
   "metadata": {},
   "outputs": [
    {
     "name": "stdout",
     "output_type": "stream",
     "text": [
      "ON THE TEST SET:\n",
      "Chosen best threshold = 0.5000\n",
      "Predicted    0   1\n",
      "True              \n",
      "0          150   5\n",
      "1           15  10\n",
      "(0.8888888888888888, 0.4, 0.967741935483871, 0.6666666666666666, 0.9090909090909091)\n"
     ]
    }
   ],
   "source": [
    "best_thr = 0.5\n",
    "print(\"ON THE TEST SET:\")\n",
    "print(\"Chosen best threshold = %.4f\" % best_thr)\n",
    "print(calc_confusion_matrix_for_threshold(y_test, cv_pred[:,1], best_thr))\n",
    "# TODO: print(calc_confusion_matrix_for_threshold(...))\n",
    "print(calc_perf_metrics_for_threshold(y_test, cv_pred[:,1], best_thr))\n",
    "# TODO: print_perf_metrics_for_threshold(...)"
   ]
  },
  {
   "cell_type": "markdown",
   "metadata": {},
   "source": [
    "#### (ii) Using threshold with highest TPR. \n",
    "\n",
    "Generate confusion matrix and metrics for probabilistic classifier, using threshold that maximizes TPR."
   ]
  },
  {
   "cell_type": "code",
   "execution_count": 160,
   "metadata": {},
   "outputs": [
    {
     "name": "stdout",
     "output_type": "stream",
     "text": [
      "ON THE TEST SET:\n",
      "Chosen best threshold = 0.0000\n",
      "Predicted  0    1\n",
      "True             \n",
      "0          0  155\n",
      "1          0   25\n",
      "(0.1388888888888889, 1.0, 0.0, 0.1388888888888889, 0)\n"
     ]
    }
   ],
   "source": [
    "best_thr = best_TPR_threshold\n",
    "print(\"ON THE TEST SET:\")\n",
    "print(\"Chosen best threshold = %.4f\" % best_thr)\n",
    "print(calc_confusion_matrix_for_threshold(y_test, cv_pred[:,1], best_thr))\n",
    "# TODO: print(calc_confusion_matrix_for_threshold(...))\n",
    "print(calc_perf_metrics_for_threshold(y_test, cv_pred[:,1], best_thr))\n",
    "# TODO: print_perf_metrics_for_threshold(...)"
   ]
  },
  {
   "cell_type": "markdown",
   "metadata": {},
   "source": [
    "#### (iii) Using threshold with highest PPV. \n",
    "\n",
    "Generate confusion matrix and metrics for probabilistic classifier, using threshold that maximizes PPV."
   ]
  },
  {
   "cell_type": "code",
   "execution_count": 161,
   "metadata": {},
   "outputs": [
    {
     "name": "stdout",
     "output_type": "stream",
     "text": [
      "ON THE TEST SET:\n",
      "Chosen best threshold = 0.6206\n",
      "Predicted    0  1\n",
      "True             \n",
      "0          155  0\n",
      "1           20  5\n",
      "(0.8888888888888888, 0.2, 1.0, 1.0, 0.8857142857142857)\n"
     ]
    }
   ],
   "source": [
    "best_thr = best_PPV_threshold\n",
    "print(\"ON THE TEST SET:\")\n",
    "print(\"Chosen best threshold = %.4f\" % best_thr)\n",
    "print(calc_confusion_matrix_for_threshold(y_test, cv_pred[:,1], best_thr))\n",
    "# TODO: print(calc_confusion_matrix_for_threshold(...))\n",
    "print(calc_perf_metrics_for_threshold(y_test, cv_pred[:,1], best_thr))\n",
    "# TODO: print_perf_metrics_for_threshold(...)"
   ]
  },
  {
   "cell_type": "markdown",
   "metadata": {},
   "source": [
    "#### (iv) Compare the confusion matrices from (a)–(c) to analyze the different thresholds.\n",
    "\n",
    "**Answer**: \n",
    "If we chose **threshold 0.5**: we'd be wrong on 15 of those people that actually had the cancer. Which isn't good, and this would lead to lost time that the patient could have gotten help.\n",
    "\n",
    "If we chose **threshold: 0.00**: everyone would have to get biopsies and this would be really expensive for the people that might not have insurance and are getting the biopsies for no reason. It would be great for the hospital though, since more revenue!\n",
    "\n",
    "If we chose **threshold 0.62**: we'd be wrong for a lot of people and again they'd lose the time that they could've gotten help."
   ]
  },
  {
   "cell_type": "code",
   "execution_count": null,
   "metadata": {},
   "outputs": [],
   "source": []
  }
 ],
 "metadata": {
  "kernelspec": {
   "display_name": "Python 3",
   "language": "python",
   "name": "python3"
  },
  "language_info": {
   "codemirror_mode": {
    "name": "ipython",
    "version": 3
   },
   "file_extension": ".py",
   "mimetype": "text/x-python",
   "name": "python",
   "nbconvert_exporter": "python",
   "pygments_lexer": "ipython3",
   "version": "3.8.5"
  }
 },
 "nbformat": 4,
 "nbformat_minor": 2
}
